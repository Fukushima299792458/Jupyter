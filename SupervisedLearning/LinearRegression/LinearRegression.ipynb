{
    "cells": [
        {
            "cell_type": "code",
            "execution_count": null,
            "metadata": {},
            "outputs": [],
            "source": []
        },
        {
            "attachments": {},
            "cell_type": "markdown",
            "metadata": {},
            "source": [
                "# Python for Linear Regression"
            ]
        },
        {
            "cell_type": "code",
            "execution_count": 5,
            "metadata": {},
            "outputs": [],
            "source": [
                "import pandas as pd\n",
                "import numpy as np\n",
                "import sklearn\n",
                "import matplotlib.pyplot as pyplot\n",
                "import pickle\n",
                "from sklearn import linear_model\n",
                "from sklearn.utils import shuffle\n",
                "from matplotlib import style"
            ]
        },
        {
            "cell_type": "code",
            "execution_count": 6,
            "metadata": {},
            "outputs": [
                {
                    "name": "stdout",
                    "output_type": "stream",
                    "text": [
                        "  school sex  age address famsize Pstatus  Medu  Fedu     Mjob      Fjob  ...  \\\n",
                        "0     GP   F   18       U     GT3       A     4     4  at_home   teacher  ...   \n",
                        "1     GP   F   17       U     GT3       T     1     1  at_home     other  ...   \n",
                        "2     GP   F   15       U     LE3       T     1     1  at_home     other  ...   \n",
                        "3     GP   F   15       U     GT3       T     4     2   health  services  ...   \n",
                        "4     GP   F   16       U     GT3       T     3     3    other     other  ...   \n",
                        "\n",
                        "  famrel freetime  goout  Dalc  Walc health absences  G1  G2  G3  \n",
                        "0      4        3      4     1     1      3        6   5   6   6  \n",
                        "1      5        3      3     1     1      3        4   5   5   6  \n",
                        "2      4        3      2     2     3      3       10   7   8  10  \n",
                        "3      3        2      2     1     1      5        2  15  14  15  \n",
                        "4      4        3      2     1     2      5        4   6  10  10  \n",
                        "\n",
                        "[5 rows x 33 columns]\n",
                        "   G1  G2  G3  studytime  failures  absences\n",
                        "0   5   6   6          2         0         6\n",
                        "1   5   5   6          2         0         4\n",
                        "2   7   8  10          2         3        10\n",
                        "3  15  14  15          3         0         2\n",
                        "4   6  10  10          2         0         4\n"
                    ]
                }
            ],
            "source": [
                "data = pd.read_csv(\"student-mat.csv\", sep=\";\")\n",
                "print(data.head())\n",
                "data = data[[\"G1\", \"G2\", \"G3\", \"studytime\", \"failures\", \"absences\"]]\n",
                "print(data.head())"
            ]
        },
        {
            "cell_type": "code",
            "execution_count": 7,
            "metadata": {},
            "outputs": [],
            "source": [
                "predict = \"G3\"\n",
                "x = np.array(data.drop(predict, axis=1))\n",
                "y = np.array(data[predict])"
            ]
        },
        {
            "cell_type": "code",
            "execution_count": 8,
            "metadata": {},
            "outputs": [],
            "source": [
                "x_train, x_test, y_train, y_test = sklearn.model_selection.train_test_split(x,y,test_size=0.1)"
            ]
        },
        {
            "cell_type": "code",
            "execution_count": 9,
            "metadata": {},
            "outputs": [
                {
                    "name": "stdout",
                    "output_type": "stream",
                    "text": [
                        "0.7787929465798705\n"
                    ]
                }
            ],
            "source": [
                "linear = linear_model.LinearRegression()\n",
                "linear.fit(x_train, y_train)\n",
                "acc = linear.score(x_test, y_test)\n",
                "print(acc)"
            ]
        },
        {
            "cell_type": "code",
            "execution_count": 10,
            "metadata": {},
            "outputs": [],
            "source": [
                "with open(\"studentmodel.pickle\", \"wb\") as f:\n",
                "    pickle.dump(linear, f)\n",
                "pickle_in = open(\"studentmodel.pickle\", \"rb\")\n",
                "linear = pickle.load(pickle_in)"
            ]
        },
        {
            "cell_type": "code",
            "execution_count": 11,
            "metadata": {},
            "outputs": [
                {
                    "name": "stdout",
                    "output_type": "stream",
                    "text": [
                        "coefficient:  [ 0.12696729  0.98498561 -0.13539823 -0.31480803  0.04000037]\n",
                        "Intercept:  -1.3360595169370235\n"
                    ]
                }
            ],
            "source": [
                "print(\"coefficient: \", linear.coef_)\n",
                "print(\"Intercept: \", linear.intercept_)\n",
                "\n"
            ]
        },
        {
            "cell_type": "code",
            "execution_count": 12,
            "metadata": {},
            "outputs": [
                {
                    "name": "stdout",
                    "output_type": "stream",
                    "text": [
                        "18.37750199625181 [18 18  4  0  6] 18\n",
                        "13.160103755434333 [14 13  3  0  8] 14\n",
                        "10.704626670765638 [11 11  2  0  2] 10\n",
                        "9.41873993448946 [ 8 10  2  0  4] 10\n",
                        "-1.593204663633855 [4 0 1 2 0] 0\n",
                        "12.843030325442767 [10 13  1  0  6] 13\n",
                        "15.795057622804134 [14 16  3  0  0] 16\n",
                        "9.465706480820561 [ 9 10  2  0  2] 9\n",
                        "12.721564441870958 [12 13  2  0  0] 14\n",
                        "19.928683794893058 [18 19  1  0 10] 19\n",
                        "3.9108558814294074 [ 6  5  1  3 16] 5\n",
                        "3.6296695423007366 [6 5 3 1 0] 0\n",
                        "13.769631586797711 [11 12  2  0 54] 11\n",
                        "5.963441256442568 [5 8 2 3 0] 7\n",
                        "4.697610877025755 [7 6 1 2 0] 0\n",
                        "8.527687414764552 [10  9  2  0  0] 0\n",
                        "13.95498322660886 [11 14  1  0  6] 14\n",
                        "9.614357143489169 [ 8  9  1  1 38] 8\n",
                        "12.798951776527785 [13 12  1  0 20] 12\n",
                        "12.928532473097825 [13 13  2  0  2] 13\n",
                        "7.875989080855357 [7 9 4 0 0] 0\n",
                        "12.245912754499761 [14 12  1  0  3] 12\n",
                        "10.03121308316292 [12 10  3  0 10] 12\n",
                        "14.032054429256778 [15 14  3  0  2] 15\n",
                        "10.624625928317755 [11 11  2  0  0] 10\n",
                        "9.672674512047427 [10 10  2  0  4] 11\n",
                        "14.683104721638038 [13 15  3  0  0] 15\n",
                        "9.067661695130433 [10 10  3  2  8] 10\n",
                        "11.212189356452608 [12 11  1  1 16] 12\n",
                        "9.728072003385666 [10 10  1  0  2] 10\n",
                        "9.775038549716767 [11 10  1  0  0] 10\n",
                        "5.942007032087947 [7 7 2 1 2] 7\n",
                        "13.841948288044193 [12 14  1  0  0] 15\n",
                        "10.78462741321352 [11 11  2  0  4] 11\n",
                        "12.737736747973461 [13 13  4  0  4] 12\n",
                        "6.2814183172109095 [7 7 3 0 6] 7\n",
                        "11.982082462034674 [15 12  3  0  0] 14\n",
                        "8.43375432210235 [8 9 2 0 4] 10\n",
                        "13.858120594146696 [13 14  3  0  4] 14\n",
                        "14.175883608050041 [14 14  1  0  2] 14\n"
                    ]
                }
            ],
            "source": [
                "predictions = linear.predict(x_test)\n",
                "for x in range(len(predictions)):\n",
                "    print(predictions[x], x_test[x], y_test[x])"
            ]
        },
        {
            "cell_type": "code",
            "execution_count": 13,
            "metadata": {},
            "outputs": [
                {
                    "data": {
                        "image/png": "[encoded data removed]",
                        "text/plain": [
                            "<Figure size 640x480 with 1 Axes>"
                        ]
                    },
                    "metadata": {},
                    "output_type": "display_data"
                }
            ],
            "source": [
                "style.use(\"ggplot\")\n",
                "p = \"G2\"\n",
                "pyplot.scatter(data[p], data[\"G3\"])\n",
                "pyplot.xlabel(p)\n",
                "pyplot.ylabel(\"Final Grade\")\n",
                "pyplot.show()\n"
            ]
        }
    ],
    "metadata": {
        "kernelspec": {
            "display_name": "Python 3 (ipykernel)",
            "language": "python",
            "name": "python3"
        },
        "language_info": {
            "codemirror_mode": {
                "name": "ipython",
                "version": 3
            },
            "file_extension": ".py",
            "mimetype": "text/x-python",
            "name": "python",
            "nbconvert_exporter": "python",
            "pygments_lexer": "ipython3",
            "version": "3.11.5"
        }
    },
    "nbformat": 4,
    "nbformat_minor": 2
}
