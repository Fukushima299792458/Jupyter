{
    "cells": [
        {
            "attachments": {},
            "cell_type": "markdown",
            "metadata": {},
            "source": [
                "# Linear Regression\n",
                "\n",
                "Linear regression is a subset of supervised machine learning where we find the line of best fit in some already labelled training data and use this trendline to predict other values. This is particularly useful in data where there is already a strong correlation. Although we only live in four dimensions, can only think in three dimensions spatially, and can only conveniently display two dimensions on screen, linear regression is often done with dosens of inputs that create a set of high dimensional vectors where the trendline is truly drawn, however we can only graph two of the values. This allows for much more reliable predictions using a wide variety of variables.\n",
                "\n",
                "The linear regression algorithm is given labelled 'ground truth' data that it is trying to predict and it is then tuned to predict this value. While most of the data is used for training, as with many types of machine learning it is best to keep some of the data out of the training set to test the ai at the end and prevent overfitting to only the test data.\n",
                "\n",
                "## Importing the Libraries\n",
                "\n",
                "First, the libraries need to be imported. If you don't have these libraries installed, run \n",
                "```\n",
                "pip install pandas\n",
                "pip install numpy\n",
                "pip install matplotlib\n",
                "pip install scikit-learn\n",
                "```\n",
                "in terminal. "
            ]
        },
        {
            "cell_type": "code",
            "execution_count": 413,
            "metadata": {},
            "outputs": [],
            "source": [
                "import pandas as pd; # Used for dealing with dataset(s).\n",
                "import numpy as np; # Makes arrays and applies array wide functions on the dataset.\n",
                "import matplotlib.pyplot as pyplot; # Makes the graphs/scatter plot and trendline.\n",
                "import sklearn; # Performs the complex mathematics required for some parts of the code making the process of programming the ai much less laborious.\n",
                "from sklearn import linear_model; # Get the algorithm for linear regression and model selection.\n",
                "from matplotlib import style; # Gets additional features to get more control over the graphs and graph styling.\n",
                "from scipy import stats; # Allows for easier data manipulation and finding the standard diviation/z score of each data point (). "
            ]
        },
        {
            "cell_type": "markdown",
            "metadata": {},
            "source": [
                "## Importing the Data\n",
                "\n",
                "After the libraries have been imported we extract the example dataset from the csv downloaded from the [UCI database](https://archive.ics.uci.edu/dataset/162/forest+fires). This dataset is seperated by commas as is the norm, however some datasets are seperated by semicolons or other punctuation marks and this needs to be specified. Then we check that all the data got imported properly by printing the 'head' or the top few values from the dataset."
            ]
        },
        {
            "cell_type": "code",
            "execution_count": 414,
            "metadata": {},
            "outputs": [
                {
                    "name": "stdout",
                    "output_type": "stream",
                    "text": [
                        "   X  Y month  day  FFMC   DMC     DC  ISI  temp  RH  wind  rain  area\n",
                        "0  7  5   mar  fri  86.2  26.2   94.3  5.1   8.2  51   6.7   0.0   0.0\n",
                        "1  7  4   oct  tue  90.6  35.4  669.1  6.7  18.0  33   0.9   0.0   0.0\n",
                        "2  7  4   oct  sat  90.6  43.7  686.9  6.7  14.6  33   1.3   0.0   0.0\n",
                        "3  8  6   mar  fri  91.7  33.3   77.5  9.0   8.3  97   4.0   0.2   0.0\n",
                        "4  8  6   mar  sun  89.3  51.3  102.2  9.6  11.4  99   1.8   0.0   0.0\n"
                    ]
                }
            ],
            "source": [
                "data = pd.read_csv(\"forestfires.csv\", sep=\",\"); # Import the labelled data from the .csv file and convert it into the array, seperating each data point based on the \",\".\n",
                "print(data.head()); # Print the first half a dosen values from the data to check that the data was imported properly."
            ]
        },
        {
            "cell_type": "markdown",
            "metadata": {},
            "source": [
                "## Data Cleaning\n",
                "\n",
                "As you can see above, some of the data is in strings but the linear regression algorithm can only work with numbers so we need to add and implement a dictionary for the days and months. \n",
                "\n",
                "Additionally, some of the variables have non-linear relationships so we compensate for this by replacing all the values with their log value. This makes the data useable for *linear* regression.\n",
                "\n",
                "Finally, outliers can significantly distort the data and reduce accuracy so we romove any data points that are further than 2.5 standard diviations from the mean."
            ]
        },
        {
            "cell_type": "code",
            "execution_count": 415,
            "metadata": {},
            "outputs": [
                {
                    "name": "stderr",
                    "output_type": "stream",
                    "text": [
                        "C:\\Users\\Phoen\\AppData\\Local\\Temp\\ipykernel_4176\\2198054933.py:6: FutureWarning: Downcasting behavior in `replace` is deprecated and will be removed in a future version. To retain the old behavior, explicitly call `result.infer_objects(copy=False)`. To opt-in to the future behavior, set `pd.set_option('future.no_silent_downcasting', True)`\n",
                        "  data[\"day\"] = data[\"day\"].replace(days);\n",
                        "C:\\Users\\Phoen\\AppData\\Local\\Temp\\ipykernel_4176\\2198054933.py:7: FutureWarning: Downcasting behavior in `replace` is deprecated and will be removed in a future version. To retain the old behavior, explicitly call `result.infer_objects(copy=False)`. To opt-in to the future behavior, set `pd.set_option('future.no_silent_downcasting', True)`\n",
                        "  data[\"month\"] = data[\"month\"].replace(months);\n"
                    ]
                }
            ],
            "source": [
                "# Dictionary to replace days and months with integer values because the linear regression can only work with numbers.\n",
                "days = {'mon': 0, 'tue': 1, 'wed': 2, 'thu': 3, 'fri': 4, 'sat': 5, 'sun': 6}; \n",
                "months = {'jan': 0, 'feb': 1, 'mar': 2, 'apr': 3, 'may': 4, 'jun': 5, 'jul': 6, 'aug': 7, 'sep': 8, 'oct': 9, 'nov': 10, 'dec': 11}; \n",
                "\n",
                "# Convert days and months to numbers.\n",
                "data[\"day\"] = data[\"day\"].replace(days); \n",
                "data[\"month\"] = data[\"month\"].replace(months); \n",
                "\n",
                "skewed = [\"FFMC\", \"DC\", \"ISI\", \"RH\", \"rain\"]; # All the values that have high skewed values as determined by https://github.com/e-hossam96/Forest-Fires-Regression/blob/main/Notebook-01-Linear-Regression.ipynb. \n",
                "for skew in skewed:\n",
                "    data[skew] = np.log1p(data[skew]); # Log all of the skewed data to account for the skew and offset it to make the data more suitable for LINEAR regression.\n",
                "\n",
                "for column in data.columns:\n",
                "    data = data[np.abs(stats.zscore(data[column])) < 2.5]; # This exludes all the outliers from the dataset by getting the z score (number of standard diviations from the average) and excluding any with a zscore more than 2.5."
            ]
        },
        {
            "cell_type": "markdown",
            "metadata": {},
            "source": [
                "## Choose What to Predict\n",
                "\n",
                "Here the variable to be predicted is defined and seperated from the other data for training. The value that will be plotted against in the graph at the end to see how well the linear regession algorithm is. "
            ]
        },
        {
            "cell_type": "code",
            "execution_count": 416,
            "metadata": {},
            "outputs": [],
            "source": [
                "predict = \"DC\"; # This is the value that the linear regeression algorithms is supposed to predict. DC seemed to be the most compatible variable with linear regression and easiest to predict.\n",
                "compare = \"month\"; # This is the value that will be used to plot the graph to compare with the 'predict' value. It is defined up here so that all the variables are in the same place. Month was second best for linear regression and seems to form a strong correlation with the DC values.\n",
                "x = np.array(data.drop(predict, axis=1)); # Set x to be the dataset but without the value to be predicted.\n",
                "y = np.array(data[predict]); # Set y to the value to be predicted."
            ]
        },
        {
            "cell_type": "markdown",
            "metadata": {},
            "source": [
                "## Traing Data vs Testing Data\n",
                "\n",
                "In machine learning, to prevent overfitting, the data is often split into two partitions; testing data and training data.\n",
                "\n",
                "Overfitting is when the machine learning algorithm effectively 'memorises' the training data so that, while it achives very high scores on the training data, it fails to effectively predict real world data. As the point of ai is to predict patterns in the real world, this is obviously not very good. To control for this, usually about 20% of the data will be removed from the training data and used to test the accuracy of the ai on data it has never seen. The remaining data is then given to the ai for training."
            ]
        },
        {
            "cell_type": "code",
            "execution_count": 417,
            "metadata": {},
            "outputs": [],
            "source": [
                "x_train, x_test, y_train, y_test = sklearn.model_selection.train_test_split(x,y,test_size=0.2); # Seperate the data into the training data and testing data at a ratio of 4:1. Really the data is split into training data used to predict (x_train), the training data to be predicted (y_train), the testing data used to predict (x_test), and the testing data to be predicted (y_test). "
            ]
        },
        {
            "cell_type": "markdown",
            "metadata": {},
            "source": [
                "## Training the AI\n",
                "\n",
                "Here, the linear regression model from sklearn is created and tained on the training data. Then to test the accuracy the linear regression algorithm is compared to the training data and the accuracy is printed."
            ]
        },
        {
            "cell_type": "code",
            "execution_count": 418,
            "metadata": {},
            "outputs": [
                {
                    "name": "stdout",
                    "output_type": "stream",
                    "text": [
                        "Accuracy: 0.9754532447545747 or  97.54532447545748%\n"
                    ]
                }
            ],
            "source": [
                "linear = sklearn.linear_model.LinearRegression(); # Create the linear regression algorithm from sklearn.\n",
                "linear.fit(x_train, y_train); # Train the model using the training data.\n",
                "acc = linear.score(x_test, y_test); # Test the linear regression model against the test data.\n",
                "print(\"Accuracy:\", acc, \"or \", str(acc*100) + \"%\"); # Print the accuracy of the ai as a decimal and as a percentage. Using the str() function is required to remove the space between the accuracy and the percentage sign."
            ]
        },
        {
            "cell_type": "code",
            "execution_count": 419,
            "metadata": {},
            "outputs": [
                {
                    "name": "stdout",
                    "output_type": "stream",
                    "text": [
                        "coefficient:  [ 1.83872028e-03 -1.62832560e-02  3.14961591e-01 -8.09496921e-03\n",
                        " -7.33103709e-01  3.03162338e-03  1.21053421e-01  5.45261461e-03\n",
                        "  3.24181192e-02 -5.15776060e-03 -5.78624547e-01 -6.09662202e-04]\n",
                        "Intercept:  6.671200098885888\n"
                    ]
                }
            ],
            "source": [
                "print(\"coefficient: \", linear.coef_); # Prints the list of coefficients/gradients generated for each of the variables plotted against the value to be predicted. \n",
                "print(\"Intercept: \", linear.intercept_); # The predicted value of the value to predict where all other variables are 0. Note: due to the high dimensions it is prone to jump around a bit between models."
            ]
        },
        {
            "cell_type": "code",
            "execution_count": 420,
            "metadata": {},
            "outputs": [
                {
                    "name": "stdout",
                    "output_type": "stream",
                    "text": [
                        "6.349336720835458 [  2.           4.           7.           1.           4.56226268\n",
                        " 108.3          2.89037176  20.1          3.71357207   4.\n",
                        "   0.           0.        ] 6.474045005433671\n",
                        "6.606533147402751 [  2.           5.           7.           5.           4.550714\n",
                        " 231.1          2.24070969  18.9          4.17438727   4.9\n",
                        "   0.           0.        ] 6.5738198220128945\n",
                        "6.583712394098515 [ 7.          4.          8.          4.          4.53367418 99.\n",
                        "  2.360854   20.6         3.78418963  3.6         0.          2.03      ] 6.615127664137342\n",
                        "6.363288356062583 [  3.           4.           7.           6.           4.56330598\n",
                        " 130.3          2.71469474  23.4          3.71357207   5.8\n",
                        "   0.           1.29      ] 6.3768970014659105\n",
                        "6.3850463894550575 [  7.           4.           7.           6.           4.52612698\n",
                        " 142.4          2.4510051   20.1          3.68887945   5.4\n",
                        "   0.           2.74      ] 6.400921676485684\n",
                        "6.579362392724082 [  4.           3.           8.           5.           4.53474772\n",
                        " 102.3          2.24070969  23.5          3.33220451   4.\n",
                        "   0.           3.33      ] 6.6234009966230305\n",
                        "4.397222215605983 [ 4.          4.          2.          1.          4.48975933 25.7\n",
                        "  1.56861592 14.1         3.78418963  2.7         0.          0.        ] 4.22829253473184\n",
                        "6.3848517496220225 [ 6.          5.          8.          3.          4.48975933 53.3\n",
                        "  1.85629799 13.7         4.04305127  1.8         0.          4.42      ] 6.590163676124212\n",
                        "5.979511421555187 [ 1.          4.          6.          1.          4.53582011 96.2\n",
                        "  2.57261223 23.4         3.4657359   5.4         0.          0.        ] 6.1119107001838495\n",
                        "6.5696697386004335 [ 3.          4.          8.          6.          4.51633897 96.7\n",
                        "  2.51769647 20.6         4.02535169  5.4         0.         24.59      ] 6.622071209193029\n",
                        "4.697882176514943 [ 6.          4.          3.          5.          4.46935046 27.4\n",
                        "  1.80828877  9.3         3.80666249  4.5         0.          0.        ] 4.585987366571318\n",
                        "6.614797550885955 [  6.           3.           8.           6.           4.53689135\n",
                        " 105.8          2.38876279  24.8          3.36729583   1.8\n",
                        "   0.          14.29      ] 6.632133521022722\n",
                        "6.691303685431571 [  2.           2.           8.           0.           4.52720864\n",
                        " 130.1          2.14006616  16.8          3.78418963   3.1\n",
                        "   0.           5.83      ] 6.694685813239402\n",
                        "6.303856981628641 [  2.           4.           7.           2.           4.53367418\n",
                        " 111.2          2.360854    20.5          3.58351894   4.\n",
                        "   0.           1.64      ] 6.48478789573783\n",
                        "6.607587357524777 [  8.           6.           8.           1.           4.52178858\n",
                        " 129.5          2.07944154  13.1          4.15888308   5.4\n",
                        "   0.           0.        ] 6.541895425466332\n",
                        "6.6336803672946 [  1.           5.           8.           6.           4.54859983\n",
                        " 149.3          2.20827441  27.8          3.33220451   3.1\n",
                        "   0.          95.18      ] 6.592496438760121\n",
                        "6.4757403547002195 [  4.           4.           7.           2.           4.56538932\n",
                        " 141.3          2.92852352  20.6          4.07753744   1.3\n",
                        "   0.           0.        ] 6.408199247474377\n",
                        "6.579832672027847 [  8.           6.           8.           0.           4.52828914\n",
                        " 108.4          1.97408103  22.7          3.58351894   2.2\n",
                        "   0.           7.48      ] 6.639875833826536\n",
                        "6.66366344801553 [  2.           5.           8.           0.           4.52070103\n",
                        " 126.5          2.07944154  21.9          3.68887945   1.8\n",
                        "   0.           0.47      ] 6.533061829540727\n",
                        "4.400237426134294 [ 4.          4.          2.          0.          4.47960696 23.9\n",
                        "  1.62924054 11.8         3.58351894  1.8         0.          0.        ] 4.185098925490565\n",
                        "4.376377167171668 [ 4.          6.          2.          0.          4.47960696 23.9\n",
                        "  1.62924054 14.          3.68887945  3.1         0.          0.        ] 4.185098925490565\n",
                        "4.430184274186383 [ 5.          4.          2.          4.          4.52936847 33.3\n",
                        "  2.30258509 15.6         3.25809654  6.3         0.          0.        ] 4.363098624788363\n",
                        "5.885627019709495 [  7.           5.           5.           6.           4.54435805\n",
                        " 180.4          2.48490665  22.2          3.8918203    1.3\n",
                        "   0.           0.        ] 6.067962518080707\n",
                        "6.0848939084769995 [  2.           2.           6.           4.           4.49200149\n",
                        " 150.3          2.05412373  13.4          4.38202663   3.6\n",
                        "   0.          37.02      ] 5.739471317064708\n",
                        "6.662079806035797 [  2.           2.           8.           4.           4.53689135\n",
                        " 117.9          2.58021683  19.6          3.52636052   6.3\n",
                        "   0.           0.        ] 6.505784060128229\n",
                        "6.491209391580366 [  2.           4.           7.           2.           4.55912625\n",
                        " 139.4          3.04452244  29.2          3.4339872    4.9\n",
                        "   0.           1.95      ] 6.536836514626557\n",
                        "6.623912318288477 [  1.           3.           8.           6.           4.53689135\n",
                        " 124.1          2.2512918   23.9          3.49650756   6.7\n",
                        "   0.           5.33      ] 6.52458967836874\n",
                        "4.464042395132132 [ 5.          6.          2.          5.          4.51743127 50.1\n",
                        "  2.17475172 15.1         4.17438727  4.          0.         13.99      ] 4.619073091157083\n",
                        "4.4179585160540515 [ 3.          4.          2.          5.          4.52936847 35.8\n",
                        "  2.17475172 15.2         3.33220451  4.9         0.          0.        ] 4.404277243608702\n",
                        "6.665939789983264 [  1.           4.           8.           0.           4.52720864\n",
                        " 130.1          2.14006616  21.3          3.58351894   2.2\n",
                        "   0.          28.19      ] 6.694685813239402\n",
                        "6.623241630284528 [  5.           6.           8.           0.           4.52070103\n",
                        " 126.5          2.07944154  14.7          4.26267988   3.6\n",
                        "   0.           0.        ] 6.533061829540727\n",
                        "6.541764513383071 [  2.           2.           7.           1.           4.53367418\n",
                        " 152.6          2.72785283  21.8          4.04305127   3.1\n",
                        "   0.           0.52      ] 6.491026978595262\n",
                        "6.507824496863204 [ 4.          5.          8.          3.          4.53689135 96.2\n",
                        "  2.2617631  18.6         3.21887582  5.8         0.          0.        ] 6.607190580699342\n",
                        "6.715188906682175 [  6.           3.           8.           6.           4.54859983\n",
                        " 149.3          2.20827441  22.8          3.68887945   3.6\n",
                        "   0.           0.        ] 6.592496438760121\n",
                        "6.321660248692945 [  1.           2.           7.           1.           4.52178858\n",
                        " 121.2          2.07944154  21.6          2.99573227   6.7\n",
                        "   0.           0.        ] 6.332568896055757\n",
                        "6.685691859061816 [  4.           5.           8.           1.           4.52287494\n",
                        " 132.3          2.60268969  15.9          3.66356165   5.4\n",
                        "   0.           1.75      ] 6.700854103213792\n",
                        "6.608861114873434 [  6.           5.           8.           4.           4.53689135\n",
                        " 117.9          2.58021683  19.6          3.52636052   6.3\n",
                        "   0.          19.23      ] 6.505784060128229\n",
                        "6.4780228441351975 [ 8.          5.          8.          6.          4.50755736 90.\n",
                        "  1.75785792 17.8         4.21950771  2.2         0.          2.01      ] 6.558765017801951\n",
                        "6.6849531509526186 [  7.           4.           8.           0.           4.52070103\n",
                        " 126.5          2.07944154  19.4          3.8918203    1.3\n",
                        "   0.           0.        ] 6.533061829540727\n",
                        "6.539790271509203 [ 4.          5.          8.          4.          4.55702981 85.1\n",
                        "  2.82731362 17.7         3.63758616  3.6         0.          0.        ] 6.541462805948445\n",
                        "5.549538332741683 [ 9.          5.          5.          2.          4.54648119 49.5\n",
                        "  2.7080502  28.          3.55534806  4.5         0.          8.16      ] 5.699439725222064\n",
                        "6.481508559143452 [ 1.          4.          8.          6.          4.50645421 84.1\n",
                        "  1.90210753 19.          3.97029191  2.2         0.          0.        ] 6.572702035114338\n",
                        "4.443070981318685 [ 3.          4.          2.          4.          4.52936847 33.3\n",
                        "  2.30258509 18.8         2.94443898  4.5         0.          0.        ] 4.363098624788363\n",
                        "6.659469282846937 [  4.           4.           8.           6.           4.54859983\n",
                        " 149.3          2.20827441  22.9          3.68887945   4.9\n",
                        "   0.          48.55      ] 6.592496438760121\n",
                        "6.618127764617053 [  6.           5.           8.           2.           4.53903038\n",
                        " 115.4          2.28238239  24.3          3.33220451   4.9\n",
                        "   0.           0.        ] 6.656855050622885\n",
                        "6.377726198377343 [  3.           4.           7.           6.           4.52612698\n",
                        " 142.4          2.4510051   19.8          3.68887945   5.4\n",
                        "   0.           0.        ] 6.400921676485684\n",
                        "6.303267482093833 [  1.           2.           7.           3.           4.52936847\n",
                        " 114.3          1.98787435  20.2          3.8286414    3.6\n",
                        "   0.           0.        ] 6.495718625490934\n",
                        "4.326019809841407 [ 4.          4.          2.          4.          4.46475803 19.5\n",
                        "  1.33500107 13.7         3.78418963  5.8         0.          0.        ] 4.065602093356446\n",
                        "6.674360603079604 [  1.           4.           8.           1.           4.52178858\n",
                        " 129.5          2.07944154  21.7          3.66356165   2.2\n",
                        "   0.           0.43      ] 6.541895425466332\n",
                        "6.559613755464576 [ 7.          4.          8.          4.          4.55702981 85.1\n",
                        "  2.82731362 20.1         3.87120101  4.9         0.         26.13      ] 6.541462805948445\n",
                        "6.210788000613251 [ 6.          5.          7.          5.          4.5130549  96.9\n",
                        "  2.29253476 14.7         4.09434456  5.8         0.          0.        ] 6.438071598547322\n",
                        "4.379551798474285 [ 3.          5.          2.          1.          4.48975933 25.7\n",
                        "  1.56861592 14.9         3.66356165  2.7         0.          0.        ] 4.22829253473184\n",
                        "6.491355904969578 [ 4.          4.          8.          6.          4.50755736 90.\n",
                        "  1.75785792 17.8         4.17438727  1.3         0.          0.        ] 6.558765017801951\n",
                        "6.489927141568547 [ 7.          4.          8.          4.          4.49088104 55.2\n",
                        "  2.53369681 15.2         4.17438727  3.1         0.          0.52      ] 6.597554895099754\n",
                        "6.417917288324911 [  1.           4.           7.           5.           4.55807858\n",
                        " 146.           2.50959926  25.6          3.76120012   4.\n",
                        "   0.           0.        ] 6.422759831917165\n",
                        "6.315965716599404 [  7.           4.           7.           6.           4.56226268\n",
                        " 108.3          2.89037176  16.4          3.87120101   1.3\n",
                        "   0.           1.56      ] 6.474045005433671\n",
                        "6.592144775576719 [  3.           6.           8.           6.           4.53689135\n",
                        " 124.1          2.2512918   17.2          4.07753744   1.3\n",
                        "   0.           0.        ] 6.52458967836874\n",
                        "6.389617880760158 [  8.           6.           7.           0.           4.52720864\n",
                        " 145.4          2.45958884   8.           4.46590812   2.2\n",
                        "   0.           0.        ] 6.412146621021007\n",
                        "5.554513176309986 [ 9.          5.          5.          2.          4.54648119 49.5\n",
                        "  2.7080502  28.          3.55534806  4.5         0.          0.        ] 5.699439725222064\n",
                        "6.159423457590827 [ 3.          4.          7.          3.          4.54329478 75.3\n",
                        "  2.16332303 19.6         3.61091791  3.1         0.          0.        ] 6.147613229597914\n",
                        "6.159551276605977 [  7.           6.           6.           1.           4.54435805\n",
                        " 180.4          2.48490665  26.9          3.36729583   5.4\n",
                        "   0.          86.45      ] 6.067962518080707\n",
                        "6.604445555131575 [ 6.          3.          8.          4.          4.55702981 85.1\n",
                        "  2.82731362 25.4         3.21887582  3.6         0.          0.        ] 6.541462805948445\n",
                        "6.708884848524269 [  2.           4.           7.           2.           4.56642936\n",
                        " 217.7          2.94443898  30.8          2.99573227   4.5\n",
                        "   0.           0.        ] 6.53813982376767\n",
                        "6.422782446908647 [  4.           4.           7.           1.           4.56538932\n",
                        " 141.3          2.92852352  19.4          4.27666612   7.6\n",
                        "   0.          46.7       ] 6.408199247474377\n",
                        "6.652590942564326 [  7.           5.           8.           1.           4.52178858\n",
                        " 129.5          2.07944154  20.7          3.63758616   2.2\n",
                        "   0.          17.2       ] 6.541895425466332\n",
                        "6.726119003100442 [ 7.          5.          9.          0.          4.52936847 48.5\n",
                        "  2.49320545 16.1         3.80666249  4.          0.         49.37      ] 6.546928872492353\n",
                        "4.364727405595751 [ 3.          4.          2.          1.          4.48975933 25.7\n",
                        "  1.56861592 15.8         3.33220451  7.6         0.          0.        ] 4.22829253473184\n",
                        "5.514662095599056 [ 8.          6.          5.          6.          4.51524548 89.5\n",
                        "  2.00148    15.4         3.8286414   2.2         0.          0.        ] 5.676068636088686\n",
                        "6.544873426992241 [  7.           4.           7.           5.           4.53044664\n",
                        " 170.9          2.68784749  23.7          3.71357207   1.8\n",
                        "   0.           1.38      ] 6.541462805948445\n",
                        "6.3553591656208654 [  6.           3.           7.           3.           4.52828914\n",
                        " 138.1          1.98787435  18.9          3.73766962   3.1\n",
                        "   0.          10.34      ] 6.434064861878406\n",
                        "6.6723216017578375 [  2.           2.           7.           1.           4.56017282\n",
                        " 212.1          2.35137526  27.9          3.33220451   2.2\n",
                        "   0.           0.        ] 6.524883019526607\n",
                        "6.650622750454915 [ 4.          4.          9.          5.          4.51743127 43.7\n",
                        "  2.04122033 18.4         3.25809654  3.1         0.         24.23      ] 6.533643478531968\n",
                        "4.412139023931946 [ 4.          4.          2.          5.          4.52936847 35.8\n",
                        "  2.17475172 17.          3.33220451  4.9         0.         28.66      ] 4.404277243608702\n",
                        "6.468240283662463 [  5.           4.           7.           1.           4.56538932\n",
                        " 141.3          2.92852352  24.1          3.78418963   6.3\n",
                        "   0.           2.        ] 6.408199247474377\n",
                        "6.384587274817268 [  6.           5.           7.           2.           4.57471098\n",
                        " 127.1          2.86220088  23.4          3.52636052   4.5\n",
                        "   0.           2.51      ] 6.348264483234865\n",
                        "6.3038226768044785 [  8.           6.           7.           5.           4.55597994\n",
                        " 117.2          2.48490665  23.9          3.73766962   2.2\n",
                        "   0.           8.02      ] 6.36664225427769\n",
                        "6.552563632859969 [ 6.          3.          8.          0.          4.49535532 91.8\n",
                        "  2.09186406 11.2         4.36944785  7.6         0.          0.        ] 6.566531772935438\n",
                        "6.334988612972194 [  2.           2.           7.           2.           4.53367418\n",
                        " 111.2          2.360854    18.4          3.8286414    3.6\n",
                        "   0.           1.63      ] 6.48478789573783\n",
                        "6.579699429157569 [  6.           3.           8.           3.           4.54116486\n",
                        " 119.           2.14006616  18.9          3.55534806   7.2\n",
                        "   0.          34.36      ] 6.665046572173087\n",
                        "5.916167755995298 [  4.           5.           6.           4.           4.52828914\n",
                        " 100.2          1.98787435  22.9          3.71357207   1.3\n",
                        "   0.           2.64      ] 6.14697144970638\n",
                        "6.151676169453108 [ 8.          6.          7.          5.          4.53474772 81.8\n",
                        "  2.55722731 20.1         3.55534806  4.5         0.         58.3       ] 6.177529090180771\n",
                        "6.599207445201465 [  8.           6.           8.           5.           4.53796144\n",
                        " 121.1          2.2617631   17.8          4.04305127   1.8\n",
                        "   0.           1.95      ] 6.515305107951467\n",
                        "5.958054242957205 [ 4.          3.          6.          3.          4.54859983 85.3\n",
                        "  2.38876279 27.2         3.36729583  1.3         0.          1.76      ] 5.981414211254481\n",
                        "6.240344589842898 [ 1.          2.          7.          6.          4.5130549  99.6\n",
                        "  1.98787435 17.9         3.80666249  2.2         0.          0.        ] 6.4492057997815175\n",
                        "6.770287753971414 [ 7.          4.          9.          0.          4.52936847 48.5\n",
                        "  2.49320545 16.8         3.8286414   4.5         0.          6.83      ] 6.546928872492353\n"
                    ]
                }
            ],
            "source": [
                "predictions = linear.predict(x_test); # Get the ai's predictions for all the test values.\n",
                "for x in range(len(predictions)): # Loop through all of the predictions.\n",
                "    print(predictions[x], x_test[x], y_test[x]); # Print the ai's predictions, the ai's inputs, and the real values to check that everything is working as it should be."
            ]
        },
        {
            "cell_type": "markdown",
            "metadata": {},
            "source": [
                "# Plot the Data\n",
                "\n",
                "Here we can finally plot the values and compare them to the predicted linear regression line. As there are 13 different variables and plotting more than 3 is generally confusing, we can only plot 2 variables against eachother. Month and DC seemed to be the variables with the best linear relationship as mentioned earlier when the predict and compare variables were defined.\n",
                "\n",
                "Here we also use the coefficient value for month (the third column in the data array) as printed above to get the gradient of the linear regression prediction and draw the trendline in."
            ]
        },
        {
            "cell_type": "code",
            "execution_count": 421,
            "metadata": {},
            "outputs": [
                {
                    "name": "stdout",
                    "output_type": "stream",
                    "text": [
                        "9\n"
                    ]
                },
                {
                    "data": {
                        "image/png": "[encoded data removed]",
                        "text/plain": [
                            "<Figure size 640x480 with 1 Axes>"
                        ]
                    },
                    "metadata": {},
                    "output_type": "display_data"
                }
            ],
            "source": [
                "style.use(\"ggplot\"); # Set the style of the plot.\n",
                "pyplot.scatter(data[compare], data[predict]); # Plot the data values for the predict variable against the compare variable to compare them.\n",
                "pyplot.xlabel(compare); # Set the x label to compare so you can see what varibles are being plotted.\n",
                "pyplot.ylabel(predict); # Set the y label to predict so you can see what varibles are being plotted.\n",
                "\n",
                "slope = linear.coef_[2]; # Get the predicted coefficient of the line of best fit by the linear regression ai.\n",
                "intercept = 4; # linear.intercept_ # We only want the approximate value of predict where comparee is 0 but the predicted value is where all other variables are 0 which means that it is usually considerably off unless you manually tune it and due to the high dimensions the intercept is prone to jump around a bit between models.\n",
                "\n",
                "print(data[\"month\"].max())\n",
                "x_range = np.linspace(data[compare].min(), data[compare].max(), len(data[compare])); # Set the range of the regression line across the x axis. This should be the same as the range of compare values.\n",
                "y_range = slope * x_range + intercept; # The formula for the line given any x (compare) value calculated using the slope/gradient, the possible values of x, and the intecept.\n",
                "pyplot.plot(x_range, y_range, color='black', label='Regression Line'); # Plot the regression line.\n",
                "\n",
                "pyplot.show(); # Display the graph."
            ]
        }
    ],
    "metadata": {
        "kernelspec": {
            "display_name": "Python 3 (ipykernel)",
            "language": "python",
            "name": "python3"
        },
        "language_info": {
            "codemirror_mode": {
                "name": "ipython",
                "version": 3
            },
            "file_extension": ".py",
            "mimetype": "text/x-python",
            "name": "python",
            "nbconvert_exporter": "python",
            "pygments_lexer": "ipython3",
            "version": "3.11.5"
        }
    },
    "nbformat": 4,
    "nbformat_minor": 2
}
