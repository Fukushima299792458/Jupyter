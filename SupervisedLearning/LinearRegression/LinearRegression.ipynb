{
    "cells": [
        {
            "attachments": {},
            "cell_type": "markdown",
            "metadata": {},
            "source": [
                "# Python for Linear Regression"
            ]
        },
        {
            "cell_type": "code",
            "execution_count": 13,
            "metadata": {},
            "outputs": [],
            "source": [
                "import pandas as pd\n",
                "import numpy as np\n",
                "import sklearn\n",
                "import matplotlib.pyplot as pyplot\n",
                "import pickle\n",
                "from sklearn import linear_model\n",
                "from sklearn.utils import shuffle\n",
                "from matplotlib import style"
            ]
        },
        {
            "cell_type": "code",
            "execution_count": 14,
            "metadata": {},
            "outputs": [
                {
                    "name": "stdout",
                    "output_type": "stream",
                    "text": [
                        "   X  Y month  day  FFMC   DMC     DC  ISI  temp  RH  wind  rain  area\n",
                        "0  7  5   mar  fri  86.2  26.2   94.3  5.1   8.2  51   6.7   0.0   0.0\n",
                        "1  7  4   oct  tue  90.6  35.4  669.1  6.7  18.0  33   0.9   0.0   0.0\n",
                        "2  7  4   oct  sat  90.6  43.7  686.9  6.7  14.6  33   1.3   0.0   0.0\n",
                        "3  8  6   mar  fri  91.7  33.3   77.5  9.0   8.3  97   4.0   0.2   0.0\n",
                        "4  8  6   mar  sun  89.3  51.3  102.2  9.6  11.4  99   1.8   0.0   0.0\n",
                        "   X  Y month  day  FFMC   DMC     DC  ISI  temp  RH  wind  rain  area\n",
                        "0  7  5   mar  fri  86.2  26.2   94.3  5.1   8.2  51   6.7   0.0   0.0\n",
                        "1  7  4   oct  tue  90.6  35.4  669.1  6.7  18.0  33   0.9   0.0   0.0\n",
                        "2  7  4   oct  sat  90.6  43.7  686.9  6.7  14.6  33   1.3   0.0   0.0\n",
                        "3  8  6   mar  fri  91.7  33.3   77.5  9.0   8.3  97   4.0   0.2   0.0\n",
                        "4  8  6   mar  sun  89.3  51.3  102.2  9.6  11.4  99   1.8   0.0   0.0\n"
                    ]
                }
            ],
            "source": [
                "data = pd.read_csv(\"forestfires.csv\", sep=\",\")\n",
                "print(data.head())\n",
                "data = data[[\"X\", \"Y\", \"month\", \"day\", \"FFMC\", \"DMC\", \"DC\", \"ISI\", \"temp\", \"RH\", \"wind\", \"rain\", \"area\"]]\n",
                "# data = data[[\"temp\", \"rain\", \"wind\", \"area\"]]\n",
                "print(data.head())"
            ]
        },
        {
            "cell_type": "code",
            "execution_count": 15,
            "metadata": {},
            "outputs": [
                {
                    "name": "stdout",
                    "output_type": "stream",
                    "text": [
                        "0      5\n",
                        "1      2\n",
                        "2      6\n",
                        "3      5\n",
                        "4      0\n",
                        "      ..\n",
                        "512    0\n",
                        "513    0\n",
                        "514    0\n",
                        "515    6\n",
                        "516    2\n",
                        "Name: day, Length: 517, dtype: int64\n"
                    ]
                },
                {
                    "name": "stderr",
                    "output_type": "stream",
                    "text": [
                        "C:\\Users\\Phoen\\AppData\\Local\\Temp\\ipykernel_11572\\3642986261.py:17: FutureWarning: Downcasting behavior in `replace` is deprecated and will be removed in a future version. To retain the old behavior, explicitly call `result.infer_objects(copy=False)`. To opt-in to the future behavior, set `pd.set_option('future.no_silent_downcasting', True)`\n",
                        "  data[column] = data[column].replace(\"dec\", 11)\n",
                        "C:\\Users\\Phoen\\AppData\\Local\\Temp\\ipykernel_11572\\3642986261.py:25: FutureWarning: Downcasting behavior in `replace` is deprecated and will be removed in a future version. To retain the old behavior, explicitly call `result.infer_objects(copy=False)`. To opt-in to the future behavior, set `pd.set_option('future.no_silent_downcasting', True)`\n",
                        "  data[column] = data[column].replace(\"sat\", 6)\n"
                    ]
                }
            ],
            "source": [
                "# Replace the zeroes \n",
                "# strings = [\"buyingChance\", \"maintenance\", \"doors\", \"people\", \"boot\", \"safety\", ]\n",
                "\n",
                "# Loop through the data and replace zeroes with the column mean\n",
                "for column in data:\n",
                "    data[column] = data[column].replace(\"jan\", 0)\n",
                "    data[column] = data[column].replace(\"feb\", 1)\n",
                "    data[column] = data[column].replace(\"mar\", 2)\n",
                "    data[column] = data[column].replace(\"apr\", 3)\n",
                "    data[column] = data[column].replace(\"may\", 4)\n",
                "    data[column] = data[column].replace(\"jun\", 5)\n",
                "    data[column] = data[column].replace(\"jul\", 6)\n",
                "    data[column] = data[column].replace(\"aug\", 7)\n",
                "    data[column] = data[column].replace(\"sep\", 8)\n",
                "    data[column] = data[column].replace(\"oct\", 9)\n",
                "    data[column] = data[column].replace(\"nov\", 10)\n",
                "    data[column] = data[column].replace(\"dec\", 11)\n",
                "\n",
                "    data[column] = data[column].replace(\"sun\", 0)\n",
                "    data[column] = data[column].replace(\"mon\", 1)\n",
                "    data[column] = data[column].replace(\"tue\", 2)\n",
                "    data[column] = data[column].replace(\"wed\", 3)\n",
                "    data[column] = data[column].replace(\"thu\", 4)\n",
                "    data[column] = data[column].replace(\"fri\", 5)\n",
                "    data[column] = data[column].replace(\"sat\", 6)\n",
                "\n",
                "    # data[column] = data[column].replace(0, np.nan)\n",
                "    # mean = int(data[column].mean(skipna=True))\n",
                "    #data[column] = data[column].replace(np.nan, mean)\n",
                "    # data[column].fillna(mean, inplace=True)\n",
                "\n",
                "print(data[\"day\"])\n",
                "# print(mean)"
            ]
        },
        {
            "cell_type": "code",
            "execution_count": 16,
            "metadata": {},
            "outputs": [],
            "source": [
                "predict = \"FFMC\"\n",
                "x = np.array(data.drop(predict, axis=1))\n",
                "y = np.array(data[predict])"
            ]
        },
        {
            "cell_type": "code",
            "execution_count": 17,
            "metadata": {},
            "outputs": [],
            "source": [
                "x_train, x_test, y_train, y_test = sklearn.model_selection.train_test_split(x,y,test_size=0.1)"
            ]
        },
        {
            "cell_type": "code",
            "execution_count": 18,
            "metadata": {},
            "outputs": [
                {
                    "name": "stdout",
                    "output_type": "stream",
                    "text": [
                        "-0.0919248264209176\n"
                    ]
                }
            ],
            "source": [
                "linear = linear_model.LinearRegression()\n",
                "linear.fit(x_train, y_train)\n",
                "acc = linear.score(x_test, y_test)\n",
                "print(acc)"
            ]
        },
        {
            "cell_type": "code",
            "execution_count": 19,
            "metadata": {},
            "outputs": [],
            "source": [
                "with open(\"studentmodel.pickle\", \"wb\") as f:\n",
                "    pickle.dump(linear, f)\n",
                "pickle_in = open(\"studentmodel.pickle\", \"rb\")\n",
                "linear = pickle.load(pickle_in)"
            ]
        },
        {
            "cell_type": "code",
            "execution_count": 20,
            "metadata": {},
            "outputs": [
                {
                    "name": "stdout",
                    "output_type": "stream",
                    "text": [
                        "coefficient:  [ 7.55871953e-02 -2.06196183e-01  4.00852472e-01  8.57554791e-02\n",
                        "  2.52410017e-02 -2.06617315e-03  5.00844267e-01 -4.27251852e-02\n",
                        " -1.05302282e-01 -9.36632233e-02  7.20469906e-01 -4.84550660e-04]\n",
                        "Intercept:  87.92852187393841\n"
                    ]
                }
            ],
            "source": [
                "print(\"coefficient: \", linear.coef_)\n",
                "print(\"Intercept: \", linear.intercept_)\n",
                "\n"
            ]
        },
        {
            "cell_type": "code",
            "execution_count": 21,
            "metadata": {},
            "outputs": [
                {
                    "name": "stdout",
                    "output_type": "stream",
                    "text": [
                        "87.0975109242158 [  6.    3.    8.    2.   80.7 730.2   6.3  18.2  62.    4.5   0.    0. ] 90.3\n",
                        "92.2302700774636 [  3.    4.    7.    1.  145.4 608.2  10.7  17.1  43.    5.4   0.    0. ] 91.5\n",
                        "92.28743678781115 [  9.    5.    5.    3.   49.5 297.7  14.   28.   34.    4.5   0.    0. ] 93.3\n",
                        "90.88748281406724 [  1.    2.    7.    5.  108.  529.8  12.5  14.7  66.    2.7   0.    0. ] 90.1\n",
                        "87.30591711890453 [  5.    6.    8.    1.  126.5 686.5   7.   14.7  70.    3.6   0.    0. ] 90.9\n",
                        "92.65581329809433 [  4.     5.     8.     4.   137.   706.4    9.2   22.1   34.     1.8\n",
                        "   0.    14.57] 92.9\n",
                        "88.05882428584295 [  9.     4.     8.     2.    73.4  671.9    3.2   24.3   36.     3.1\n",
                        "   0.   105.66] 84.4\n",
                        "82.9150206672835 [ 8.   6.   2.   5.  33.3 77.5  9.   8.3 97.   4.   0.2  0. ] 91.7\n",
                        "89.91323913794508 [  4.     4.    11.     1.    25.4  349.7    2.6    4.6   21.     8.5\n",
                        "   0.     9.77] 85.4\n",
                        "92.09225813944217 [  4.    5.    8.    4.   96.2 739.4   8.6  18.6  24.    5.8   0.    0. ] 92.4\n",
                        "91.2790134794554 [  1.    2.    7.    5.  166.9 752.6   7.1  25.9  41.    3.6   0.    0. ] 91.0\n",
                        "88.80124743780527 [  6.    4.    5.    0.   89.5 290.8   6.4  14.3  46.    1.8   0.    0.9] 90.4\n",
                        "90.10073670751467 [  6.    3.    8.    0.   75.6 718.3   7.8  17.7  39.    3.6   0.    0. ] 91.7\n",
                        "91.50562895173822 [ 6.    5.    2.    5.   48.3  97.8  12.5  11.7  33.    4.    0.    8.31] 91.2\n",
                        "91.17350754884565 [  8.    6.    7.    6.  231.1 715.1   8.4  18.9  64.    4.9   0.    0. ] 93.7\n",
                        "89.26010485185844 [  5.     4.     8.     5.    99.   745.3    9.6   12.8   64.     3.6\n",
                        "   0.     1.64] 92.1\n",
                        "87.58992623796196 [ 6.   4.   2.   3.  27.9 70.8  6.3 15.9 35.   4.   0.   0. ] 89.2\n",
                        "89.95041675062052 [  7.    4.    9.    2.   35.4 669.1   6.7  18.   33.    0.9   0.    0. ] 90.6\n",
                        "90.92618056043229 [  2.    5.    7.    6.  231.1 715.1   8.4  18.9  64.    4.9   0.    0. ] 93.7\n",
                        "91.25022580145581 [  2.     4.     7.     0.   235.1  723.1   10.1   20.9   66.     4.9\n",
                        "   0.    15.34] 93.6\n",
                        "88.49550626500807 [  6.    3.    8.    1.  130.1 807.1   7.5  12.2  66.    4.9   0.    6.1] 91.5\n",
                        "88.49370390427049 [  2.     4.     8.     3.    84.8  725.1    3.7   21.8   34.     2.2\n",
                        "   0.     6.04] 87.9\n",
                        "95.10830846306193 [  2.    2.    7.    2.  212.1 680.9   9.5  27.9  27.    2.2   0.    0. ] 94.6\n",
                        "94.46057187571046 [5.000e+00 4.000e+00 7.000e+00 0.000e+00 1.751e+02 7.007e+02 1.380e+01\n",
                        " 2.570e+01 3.900e+01 5.400e+00 0.000e+00 9.000e-02] 91.8\n",
                        "90.4079041762528 [  6.     5.     8.     6.   291.3  860.6    4.    17.    67.     4.9\n",
                        "   0.     3.95] 87.1\n",
                        "92.27836566563364 [  1.    4.    7.    5.  269.8 811.2   5.5  22.2  45.    3.6   0.    0. ] 90.6\n",
                        "85.58330611894685 [  5.     6.     2.     6.    50.1  100.4    7.8   15.1   64.     4.\n",
                        "   0.    13.99] 90.6\n",
                        "98.48585522302446 [  7.    4.    7.    6.  139.4 594.2  20.3  23.7  32.    5.8   0.    0. ] 93.5\n",
                        "91.25635099886023 [  4.     4.     8.     3.   115.4  777.1    8.8   19.7   41.     1.8\n",
                        "   0.     1.58] 92.6\n",
                        "83.92189553993661 [ 3.   4.   1.   6.   8.  30.2  2.6 12.7 48.   1.8  0.   0. ] 83.9\n",
                        "91.49290713653895 [  4.    5.    7.    4.  266.2 803.3   5.6  17.4  54.    3.1   0.    0. ] 89.4\n",
                        "85.19802533678042 [ 6.   3.   3.   3.  17.2 43.5  3.8 15.2 51.   2.7  0.   0. ] 88.0\n",
                        "88.93823347371152 [  2.     5.     8.     1.   108.4  764.     6.2   19.3   44.     2.2\n",
                        "   0.     3.93] 91.6\n",
                        "91.13123458806018 [  2.     2.     7.     3.   111.2  654.1    9.6   18.4   45.     3.6\n",
                        "   0.     1.63] 92.1\n",
                        "93.31277256476785 [  4.     5.     8.     2.   132.3  812.1   12.5   15.9   38.     5.4\n",
                        "   0.     1.75] 91.1\n",
                        "91.76918660654519 [  4.     4.     8.     5.    99.   745.3    9.6   20.8   35.     4.9\n",
                        "   0.    13.06] 92.1\n",
                        "93.0302631138236 [  3.    4.    8.    5.   85.1 692.3  15.9  19.8  50.    5.4   0.    0. ] 94.3\n",
                        "97.56328777090413 [  2.     4.     7.     3.   139.4  689.1   20.    29.2   30.     4.9\n",
                        "   0.     1.95] 94.5\n",
                        "93.75228302413245 [  2.     4.     7.     1.    97.9  542.    14.4   28.3   32.     4.\n",
                        "   0.     8.85] 93.6\n",
                        "85.86869821623424 [  3.    5.    2.    1.   52.2 103.8   5.    9.   49.    2.2   0.    0. ] 87.6\n",
                        "89.90729854685806 [  4.     4.    11.     1.    25.4  349.7    2.6    4.6   21.     8.5\n",
                        "   0.    22.03] 85.4\n",
                        "95.16537554332481 [  1.    2.    8.    4.  137.  706.4   9.2  21.5  15.    0.9   0.    0. ] 92.9\n",
                        "89.27736389174297 [7.000e+00 6.000e+00 6.000e+00 3.000e+00 1.831e+02 4.377e+02 1.250e+01\n",
                        " 1.260e+01 9.000e+01 7.600e+00 2.000e-01 0.000e+00] 91.2\n",
                        "90.07847538673572 [  4.    3.    7.    0.   99.6 631.2   6.3  21.5  34.    2.2   0.    0. ] 90.2\n",
                        "91.99813466194745 [  8.    6.    7.    0.  142.4 601.4  10.6  18.2  43.    4.9   0.    0. ] 91.4\n",
                        "87.5237786557035 [7.000e+00 4.000e+00 8.000e+00 0.000e+00 8.410e+01 7.143e+02 5.700e+00\n",
                        " 1.710e+01 5.300e+01 5.400e+00 0.000e+00 4.100e-01] 89.6\n",
                        "88.8479358113057 [  5.     4.     7.     5.   166.9  752.6    7.1   21.1   71.     7.6\n",
                        "   1.4    2.17] 91.0\n",
                        "94.6955194722974 [  2.     5.     5.     4.   121.7  350.2   18.    22.7   40.     9.4\n",
                        "   0.     3.19] 93.7\n",
                        "85.97580454829917 [ 6.   5.   2.   0.  37.6 83.7  7.2 12.4 54.   3.6  0.  12.1] 90.1\n",
                        "87.01519969389086 [ 5.    4.    2.    1.   39.7  86.6   6.2  13.2  40.    5.4   0.    0.95] 90.1\n",
                        "91.70827879228833 [  7.    4.    7.    0.  175.1 700.7  13.8  21.9  73.    7.6   1.    0. ] 91.8\n",
                        "93.89353797922192 [  1.    2.    7.    2.  108.3 647.1  17.   18.6  51.    4.5   0.    0. ] 94.8\n"
                    ]
                }
            ],
            "source": [
                "predictions = linear.predict(x_test)\n",
                "for x in range(len(predictions)):\n",
                "    print(predictions[x], x_test[x], y_test[x])"
            ]
        },
        {
            "cell_type": "code",
            "execution_count": 22,
            "metadata": {},
            "outputs": [
                {
                    "data": {
                        "image/png": "[encoded data removed]",
                        "text/plain": [
                            "<Figure size 640x480 with 1 Axes>"
                        ]
                    },
                    "metadata": {},
                    "output_type": "display_data"
                }
            ],
            "source": [
                "style.use(\"ggplot\")\n",
                "p = predict\n",
                "pyplot.scatter(data[p], data[\"area\"])\n",
                "pyplot.yscale(\"symlog\")\n",
                "# pyplot.xscale(\"logit\")\n",
                "pyplot.xlabel(p)\n",
                "pyplot.ylabel(\"Area Burned\")\n",
                "pyplot.show()\n"
            ]
        }
    ],
    "metadata": {
        "kernelspec": {
            "display_name": "Python 3 (ipykernel)",
            "language": "python",
            "name": "python3"
        },
        "language_info": {
            "codemirror_mode": {
                "name": "ipython",
                "version": 3
            },
            "file_extension": ".py",
            "mimetype": "text/x-python",
            "name": "python",
            "nbconvert_exporter": "python",
            "pygments_lexer": "ipython3",
            "version": "3.11.5"
        }
    },
    "nbformat": 4,
    "nbformat_minor": 2
}
