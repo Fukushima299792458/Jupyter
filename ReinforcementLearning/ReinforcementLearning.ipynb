{
    "cells": [
        {
            "cell_type": "markdown",
            "metadata": {},
            "source": [
                "# Reinforcement Learning\n",
                "\n",
                "## Importing libraries\n",
                "\n",
                "First, the 'gym' library needs to by imported. If you don't have this library intalled, run `pip -m install gym` in the terminal. "
            ]
        },
        {
            "cell_type": "code",
            "execution_count": 40,
            "metadata": {},
            "outputs": [],
            "source": [
                "import gym;"
            ]
        },
        {
            "cell_type": "markdown",
            "metadata": {},
            "source": [
                "## Creating the Environment\n",
                "\n",
                "Using the gym library, we then get one of the pre-made environments. I used the Mounatin Car Environment as seen below but many more can be found at the gym website.\n",
                "\n",
                "![Mountain Car Evironment](/assets/images/MountainCar.gif)"
            ]
        },
        {
            "cell_type": "code",
            "execution_count": 41,
            "metadata": {},
            "outputs": [],
            "source": [
                "env = gym.make(\"MountainCar-v0\");\n",
                "env.reset();"
            ]
        },
        {
            "cell_type": "code",
            "execution_count": 42,
            "metadata": {},
            "outputs": [],
            "source": [
                "env.observation_space;\n",
                "env.observation_space.high;\n",
                "env.observation_space.low;\n",
                "env.action_space;\n",
                "env.spec;\n",
                "env.spec.max_episode_steps;\n",
                "env.spec.reward_threshold;\n",
                "episodeNumber = 10000;\n",
                "timeSteps = 1000;"
            ]
        },
        {
            "cell_type": "code",
            "execution_count": 43,
            "metadata": {},
            "outputs": [
                {
                    "name": "stdout",
                    "output_type": "stream",
                    "text": [
                        "Running best: 910   At episode 3567\n",
                        "Running best: 893   At episode 5302\n",
                        "Running best: 740   At episode 9412\n",
                        "Best number of steps:  740\n"
                    ]
                }
            ],
            "source": [
                "best = timeSteps;\n",
                "for a in range(episodeNumber):\n",
                "    initial_state = env.reset();\n",
                "    appendObservations = [];\n",
                "    for b in range(timeSteps):\n",
                "        random_action=env.action_space.sample();\n",
                "        observation, reward, terminated, truncated, info = env.step(random_action);\n",
                "        # print(\"step\", b, observation, reward, terminated, info, random_action) # just ended up clogging up the output, especially with increasing training\n",
                "        appendObservations.append(observation);\n",
                "        if(terminated):\n",
                "            if(best > b):\n",
                "                best = b;\n",
                "                print(\"Running best:\", best, \"  At episode\", a);\n",
                "            env.close();\n",
                "            break;\n",
                "\n",
                "print(\"Best number of steps: \", best);"
            ]
        }
    ],
    "metadata": {
        "kernelspec": {
            "display_name": "Python 3 (ipykernel)",
            "language": "python",
            "name": "python3"
        },
        "language_info": {
            "codemirror_mode": {
                "name": "ipython",
                "version": 3
            },
            "file_extension": ".py",
            "mimetype": "text/x-python",
            "name": "python",
            "nbconvert_exporter": "python",
            "pygments_lexer": "ipython3",
            "version": "3.11.5"
        }
    },
    "nbformat": 4,
    "nbformat_minor": 2
}
